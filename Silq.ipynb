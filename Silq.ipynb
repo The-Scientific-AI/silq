{
  "nbformat": 4,
  "nbformat_minor": 0,
  "metadata": {
    "colab": {
      "private_outputs": true,
      "provenance": [],
      "cell_execution_strategy": "setup",
      "authorship_tag": "ABX9TyOLB7MNtBtNzCZHmuUAI5ZI",
      "include_colab_link": true
    },
    "kernelspec": {
      "name": "python3",
      "display_name": "Python 3"
    },
    "language_info": {
      "name": "python"
    }
  },
  "cells": [
    {
      "cell_type": "markdown",
      "metadata": {
        "id": "view-in-github",
        "colab_type": "text"
      },
      "source": [
        "<a href=\"https://colab.research.google.com/github/theo-physics/silq/blob/main/Silq.ipynb\" target=\"_parent\"><img src=\"https://colab.research.google.com/assets/colab-badge.svg\" alt=\"Open In Colab\"/></a>"
      ]
    },
    {
      "cell_type": "code",
      "execution_count": null,
      "metadata": {
        "id": "TaGOWfeLpnpa"
      },
      "outputs": [],
      "source": [
        "!sudo apt-get install -y build-essential git wget unzip"
      ]
    },
    {
      "cell_type": "code",
      "source": [],
      "metadata": {
        "id": "wBNelN2bfHKN"
      },
      "execution_count": null,
      "outputs": []
    },
    {
      "cell_type": "code",
      "source": [
        "!git clone https://github.com/eth-sri/silq.git"
      ],
      "metadata": {
        "id": "jUbmYuuUqGp6"
      },
      "execution_count": null,
      "outputs": []
    },
    {
      "cell_type": "code",
      "source": [
        "!cd silq && ./dependencies.sh && ./build.sh"
      ],
      "metadata": {
        "id": "G9U-7r7TqLFl"
      },
      "execution_count": null,
      "outputs": []
    },
    {
      "cell_type": "code",
      "source": [
        "!/path/to/silq/silq"
      ],
      "metadata": {
        "id": "qTQtzBNXqO7v"
      },
      "execution_count": null,
      "outputs": []
    },
    {
      "cell_type": "code",
      "source": [
        "!sudo mkdir -p /usr/local/bin"
      ],
      "metadata": {
        "id": "DYZQ3CAQqUeH"
      },
      "execution_count": null,
      "outputs": []
    },
    {
      "cell_type": "code",
      "source": [
        "!sudo ln -s $(pwd)/silq /usr/local/bin/silq"
      ],
      "metadata": {
        "id": "otfr_CQfqZBY"
      },
      "execution_count": null,
      "outputs": []
    },
    {
      "cell_type": "code",
      "source": [
        "!silq"
      ],
      "metadata": {
        "id": "R_1ZrW5CqchA"
      },
      "execution_count": null,
      "outputs": []
    },
    {
      "cell_type": "code",
      "source": [
        "!silq --version\n"
      ],
      "metadata": {
        "id": "COEwfW_KqfPt"
      },
      "execution_count": null,
      "outputs": []
    },
    {
      "cell_type": "code",
      "source": [
        "%%writefile correct.slq\n",
        "\n",
        "def main() {\n",
        "  x:=H(false);\n",
        "  return measure(x);\n",
        "}\n"
      ],
      "metadata": {
        "id": "uWHzaFBOqtNB"
      },
      "execution_count": null,
      "outputs": []
    },
    {
      "cell_type": "code",
      "source": [
        "!silq correct.slq\n"
      ],
      "metadata": {
        "id": "KGfekAGUrpxz"
      },
      "execution_count": null,
      "outputs": []
    },
    {
      "cell_type": "code",
      "source": [
        "!silq run correct.slq"
      ],
      "metadata": {
        "id": "YYiL1ueJr1p_"
      },
      "execution_count": null,
      "outputs": []
    },
    {
      "cell_type": "code",
      "source": [],
      "metadata": {
        "id": "8Le41-t2uaeM"
      },
      "execution_count": null,
      "outputs": []
    }
  ]
}